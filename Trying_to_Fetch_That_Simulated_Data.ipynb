{
 "cells": [
  {
   "cell_type": "markdown",
   "metadata": {},
   "source": [
    "make sure to setup packages first\n",
    "\n",
    "setup sims_photUtils -t sims\n",
    "\n",
    "setup sims_catUtils -t sims\n",
    "\n",
    "setup sims_sed_library -t sims"
   ]
  },
  {
   "cell_type": "code",
   "execution_count": 1,
   "metadata": {},
   "outputs": [],
   "source": [
    "import os\n",
    "import numpy as np\n",
    "\n",
    "from lsst.sims.photUtils.Sed import Sed\n",
    "from lsst.sims.photUtils.Bandpass import Bandpass\n",
    "%matplotlib inline\n",
    "import matplotlib.pylab as plt"
   ]
  },
  {
   "cell_type": "code",
   "execution_count": 2,
   "metadata": {},
   "outputs": [],
   "source": [
    "import os\n",
    "import numpy as np\n",
    "\n",
    "from lsst.sims.photUtils.Sed import Sed\n",
    "from lsst.sims.photUtils.Bandpass import Bandpass"
   ]
  },
  {
   "cell_type": "code",
   "execution_count": 3,
   "metadata": {},
   "outputs": [],
   "source": [
    "# See? Weird, right?"
   ]
  },
  {
   "cell_type": "code",
   "execution_count": 4,
   "metadata": {},
   "outputs": [],
   "source": [
    "# and if you try copypasting in the code from get_star_properties.py:"
   ]
  },
  {
   "cell_type": "code",
   "execution_count": 5,
   "metadata": {},
   "outputs": [
    {
     "name": "stderr",
     "output_type": "stream",
     "text": [
      "/Users/yoachim/gitRepos/sims_catalogs/python/lsst/sims/catalogs/db/dbConnection.py:553: UserWarning: Duplicate object type id 25 specified: \n",
      "Output object ids may not be unique.\n",
      "This may not be a problem if you do not want globally unique id values\n",
      "  'want globally unique id values')\n",
      "/Users/yoachim/gitRepos/sims_catalogs/python/lsst/sims/catalogs/db/dbConnection.py:553: UserWarning: Duplicate object type id 40 specified: \n",
      "Output object ids may not be unique.\n",
      "This may not be a problem if you do not want globally unique id values\n",
      "  'want globally unique id values')\n"
     ]
    }
   ],
   "source": [
    "from lsst.utils import getPackageDir\n",
    "from lsst.sims.catUtils.baseCatalogModels import StarObj\n",
    "from lsst.sims.utils import ObservationMetaData\n",
    "from lsst.sims.utils import equatorialFromGalactic"
   ]
  },
  {
   "cell_type": "code",
   "execution_count": 6,
   "metadata": {},
   "outputs": [],
   "source": [
    "# And that one doesn't go anywhere if you try running the cell again."
   ]
  },
  {
   "cell_type": "code",
   "execution_count": 7,
   "metadata": {},
   "outputs": [],
   "source": [
    "# And if you try getting around that by skipping that line, I get this error instead. I've looked, and\n",
    "# lsst.sims.catUtils really doesn't seem to be on my computer anywhere."
   ]
  },
  {
   "cell_type": "code",
   "execution_count": 8,
   "metadata": {},
   "outputs": [],
   "source": [
    "from lsst.sims.catUtils.baseCatalogModels import StarObj\n",
    "from lsst.sims.utils import ObservationMetaData\n",
    "from lsst.sims.utils import equatorialFromGalactic"
   ]
  },
  {
   "cell_type": "code",
   "execution_count": 9,
   "metadata": {},
   "outputs": [],
   "source": [
    "import os\n",
    "import numpy as np\n",
    "\n",
    "from lsst.utils import getPackageDir\n",
    "from lsst.sims.catUtils.baseCatalogModels import StarObj\n",
    "from lsst.sims.utils import ObservationMetaData\n",
    "from lsst.sims.utils import equatorialFromGalactic\n",
    "\n",
    "def get_kurucz_phys(sed_name_in):\n",
    "    \"\"\"\n",
    "    Read in the name of a kurucz SED file.  Return it's\n",
    "    T_eff, metallicity, log(surface gravity)\n",
    "    \"\"\"\n",
    "    sed_name = sed_name_in.replace('.gz','')\n",
    "    if sed_name[1] == 'p':\n",
    "        metallicity_sgn = 1.0\n",
    "    elif sed_name[1] == 'm':\n",
    "        metallicity_sgn = -1.0\n",
    "    else:\n",
    "        raise RuntimeError('Cannot parse metallicity sign of %s' % sed_name)\n",
    "\n",
    "    new_name = sed_name.replace('.','_').split('_')\n",
    "\n",
    "    metallicity = 0.1*metallicity_sgn*float(new_name[0][2:])\n",
    "\n",
    "    teff = float(new_name[-1])\n",
    "\n",
    "    logg = 0.1*np.float(new_name[3][1:])\n",
    "\n",
    "    return teff, metallicity, logg\n",
    "\n",
    "\n",
    "def get_wd_phys(sed_name):\n",
    "    \"\"\"\n",
    "    Read in the name of a white dwarf SED,\n",
    "    return its T_eff, metallicity (which we don't actually have),\n",
    "    and log(surface gravity)\n",
    "    \"\"\"\n",
    "    new_name = sed_name.replace('.','_').split('_')\n",
    "    if new_name[1]!='He':\n",
    "        logg = 0.1*float(new_name[2])\n",
    "        teff = float(new_name[4])\n",
    "    else:\n",
    "        logg = 0.1*float(new_name[3])\n",
    "        teff = float(new_name[5])\n",
    "\n",
    "\n",
    "    return teff, -999.0, logg\n",
    "\n",
    "\n",
    "def get_mlt_phys(sed_name):\n",
    "    \"\"\"\n",
    "    Read in the name of an M/L/T dwarf SED and return\n",
    "    its T_eff, metallicity, and log(surface gravity)\n",
    "    \"\"\"\n",
    "\n",
    "    new_name = sed_name.replace('+','-').replace('a','-').split('-')\n",
    "\n",
    "    logg_sgn_dex = len(new_name[0])\n",
    "\n",
    "    if sed_name[logg_sgn_dex] == '-':\n",
    "        logg_sgn = 1.0\n",
    "    elif sed_name[logg_sgn_dex] == '+':\n",
    "        logg_sgn = -1.0\n",
    "    else:\n",
    "        raise RuntimeError('Cannot get logg_sgn for %s' % sed_name)\n",
    "\n",
    "    metallicity_sgn_dex = len(new_name[0]) + len(new_name[1]) + 1\n",
    "\n",
    "    if sed_name[metallicity_sgn_dex] == '-':\n",
    "        metallicity_sgn = -1.0\n",
    "    elif sed_name[metallicity_sgn_dex] == '+':\n",
    "        metallicity_sgn = 1.0\n",
    "    else:\n",
    "        raise RuntimeError('Cannot get metallicity_sgn for %s' % sed_name)\n",
    "\n",
    "    teff = 100.0*float(new_name[0][3:])\n",
    "    metallicity = metallicity_sgn*float(new_name[2])\n",
    "    logg = logg_sgn*float(new_name[1])\n",
    "\n",
    "    return teff, metallicity, logg\n",
    "\n",
    "\n",
    "def get_physical_characteristics(sed_name):\n",
    "    \"\"\"\n",
    "    Read in the name of an SED file.\n",
    "    Return (in this order) Teff, metallicity (FeH), log(g)\n",
    "    \"\"\"\n",
    "    sed_name = sed_name.strip()\n",
    "\n",
    "    if not hasattr(get_physical_characteristics, 'teff_dict'):\n",
    "        get_physical_characteristics.teff_dict = {}\n",
    "        get_physical_characteristics.logg_dict = {}\n",
    "        get_physical_characteristics.metal_dict = {}\n",
    "\n",
    "    if sed_name in get_physical_characteristics.teff_dict:\n",
    "        return (get_physical_characteristics.teff_dict[sed_name],\n",
    "                get_physical_characteristics.metal_dict[sed_name],\n",
    "                get_physical_characteristics.logg_dict[sed_name])\n",
    "\n",
    "    if sed_name.startswith('bergeron'):\n",
    "        sub_dir = 'wDs'\n",
    "    elif sed_name.startswith('lte'):\n",
    "        sub_dir = 'mlt'\n",
    "    elif sed_name[0] == 'k':\n",
    "        sub_dir = 'kurucz'\n",
    "    else:\n",
    "        raise RuntimeError(\"Do not understand name %s\" % sed_name)\n",
    "\n",
    "    \n",
    "\n",
    "    if 'kurucz' in sub_dir:\n",
    "        tt,mm,gg =  get_kurucz_phys(sed_name)\n",
    "    elif sub_dir == 'wDs':\n",
    "        tt,mm,gg = get_wd_phys(sed_name)\n",
    "    elif sub_dir == 'mlt':\n",
    "        tt,mm,gg = get_mlt_phys(sed_name)\n",
    "    else:\n",
    "        raise RuntimeError('Do not know how to get '\n",
    "                           'physical characteristics for '\n",
    "                           'sub_dir %s' % sub_dir)\n",
    "\n",
    "    get_physical_characteristics.teff_dict[sed_name] = tt\n",
    "    get_physical_characteristics.metal_dict[sed_name] = mm\n",
    "    get_physical_characteristics.logg_dict[sed_name] = gg\n",
    "\n",
    "    return tt, mm, gg\n"
   ]
  },
  {
   "cell_type": "code",
   "execution_count": 10,
   "metadata": {},
   "outputs": [],
   "source": [
    "# OK. let's grab some stars and save for later. Copy stuff from Scott's get_star_properties.py script\n",
    "\n",
    "# find the RA, Dec of the north Galactic pole\n",
    "ra, dec = equatorialFromGalactic(0.0, 90.0)\n",
    "\n",
    "# Hmm, that ra, dec didn't seem to work for me, let's just point here for now\n",
    "ra = 100.\n",
    "dec = -40.\n",
    "\n",
    "\n",
    "# define a field of view that is a circle of radius 1 degree\n",
    "# around that point\n",
    "obs = ObservationMetaData(pointingRA=ra, pointingDec=dec,\n",
    "                          boundType='circle',\n",
    "                          boundLength=1.0)\n",
    "\n",
    "# connect to our database of simulated stars\n",
    "# (if you want to do this from off campus, talk to me;\n",
    "# there are more authentication steps you need to go through)\n",
    "star_db = StarObj(database='LSSTCATSIM',\n",
    "                  host='fatboy.phys.washington.edu',\n",
    "                  port=1433, driver='mssql+pymssql')\n",
    "\n",
    "# define the columns you want to get from the database\n",
    "# (note: the query automatically adds the 'simobjid'\n",
    "# column to the front; that is just an integer\n",
    "# uniquely identifying each star)\n",
    "column_names = ['ra', 'decl', 'sedFilename', 'rmag', 'gmag', 'imag']\n",
    "\n",
    "results = star_db.query_columns(colnames=column_names,\n",
    "                                obs_metadata=obs)\n",
    "\n",
    "# results is now an iterator over chunks of stars\n",
    "# to get numpy arrays of teff, metallicity, logg, and rmag\n",
    "# use\n",
    "teff = []\n",
    "metallicity = []\n",
    "logg = []\n",
    "rmag = []\n",
    "gmag = []\n",
    "imag = []\n",
    "for chunk in results:\n",
    "    for line in chunk:\n",
    "        phys_params = get_physical_characteristics(line['sedFilename'])\n",
    "        if phys_params is not None:\n",
    "            teff.append(phys_params[0])\n",
    "            metallicity.append(phys_params[1])\n",
    "            logg.append(phys_params[2])\n",
    "            rmag.append(line['rmag'])\n",
    "            gmag.append(line['gmag'])\n",
    "            imag.append(line['imag'])\n",
    "\n",
    "teff = np.array(teff)\n",
    "metallicity = np.array(metallicity)\n",
    "logg = np.array(logg)\n",
    "rmag = np.array(rmag)\n",
    "imag = np.array(imag)\n",
    "gmag = np.array(gmag)\n"
   ]
  },
  {
   "cell_type": "code",
   "execution_count": 11,
   "metadata": {},
   "outputs": [
    {
     "data": {
      "image/png": "[encoded data removed]",
      "text/plain": [
       "<matplotlib.figure.Figure at 0x1217919b0>"
      ]
     },
     "metadata": {},
     "output_type": "display_data"
    }
   ],
   "source": [
    "# plot up and see that we got some data\n",
    "plt.scatter(teff, logg, c=metallicity, vmin=-5)\n",
    "cb = plt.colorbar()\n",
    "plt.xlabel('Teff')\n",
    "plt.ylabel('logg')\n",
    "cb.set_label('Metallicity')"
   ]
  },
  {
   "cell_type": "code",
   "execution_count": 12,
   "metadata": {},
   "outputs": [
    {
     "data": {
      "text/plain": [
       "<matplotlib.text.Text at 0x122098fd0>"
      ]
     },
     "execution_count": 12,
     "metadata": {},
     "output_type": "execute_result"
    },
    {
     "data": {
      "image/png": "[encoded data removed]",
      "text/plain": [
       "<matplotlib.figure.Figure at 0x121779940>"
      ]
     },
     "metadata": {},
     "output_type": "display_data"
    }
   ],
   "source": [
    "plt.scatter(gmag-rmag, rmag-imag, c=teff)\n",
    "plt.xlabel('g-r')\n",
    "plt.ylabel('r-i')"
   ]
  },
  {
   "cell_type": "code",
   "execution_count": 13,
   "metadata": {},
   "outputs": [],
   "source": [
    "# Let's dump everything into one big array to keep track of it\n",
    "names = ['teff', 'metallicity', 'logg', 'gmag', 'rmag', 'imag']\n",
    "dtypes = [float]*6\n",
    "from_catsim = np.empty(imag.size, dtype=list(zip(names,dtypes)))\n",
    "\n",
    "# ugh, I'm too lazy to do this a better way\n",
    "from_catsim['teff'] = teff\n",
    "from_catsim['metallicity'] = metallicity\n",
    "from_catsim['logg'] = logg\n",
    "from_catsim['gmag'] = gmag\n",
    "from_catsim['rmag'] = rmag\n",
    "from_catsim['imag'] = imag"
   ]
  },
  {
   "cell_type": "code",
   "execution_count": 14,
   "metadata": {},
   "outputs": [],
   "source": [
    "np.savez('stars_from_catsim.npz', from_catsim=from_catsim)"
   ]
  },
  {
   "cell_type": "code",
   "execution_count": 15,
   "metadata": {},
   "outputs": [],
   "source": [
    "# To load back up\n",
    "temp = np.load('stars_from_catsim.npz')\n",
    "# Have to copy to get it into memory, otherwise it reads off disk every time\n",
    "data_back = temp['from_catsim'].copy()\n",
    "temp.close()"
   ]
  },
  {
   "cell_type": "code",
   "execution_count": 16,
   "metadata": {},
   "outputs": [
    {
     "data": {
      "text/plain": [
       "array([( 3500., -1.,  4.5,  29.15061  ,  27.86252  ,  26.88286  ),\n",
       "       ( 2700., -0.,  2. ,  27.6896   ,  26.25251  ,  24.4602   ),\n",
       "       ( 3400., -1.,  4.5,  22.9489   ,  21.66766  ,  20.55609  ), ...,\n",
       "       ( 8950.,  1.,  3.5,  13.386506 ,  13.4968833,  13.6648923),\n",
       "       ( 9200.,  1.,  4. ,  19.0695859,  19.1674051,  19.3290885),\n",
       "       ( 8540.,  1.,  3.5,  14.2749375,  14.329094 ,  14.4727031)],\n",
       "      dtype=[('teff', '<f8'), ('metallicity', '<f8'), ('logg', '<f8'), ('gmag', '<f8'), ('rmag', '<f8'), ('imag', '<f8')])"
      ]
     },
     "execution_count": 16,
     "metadata": {},
     "output_type": "execute_result"
    }
   ],
   "source": [
    "data_back"
   ]
  },
  {
   "cell_type": "code",
   "execution_count": 17,
   "metadata": {},
   "outputs": [
    {
     "data": {
      "text/plain": [
       "127426"
      ]
     },
     "execution_count": 17,
     "metadata": {},
     "output_type": "execute_result"
    }
   ],
   "source": [
    "data_back.size"
   ]
  },
  {
   "cell_type": "code",
   "execution_count": null,
   "metadata": {},
   "outputs": [],
   "source": []
  }
 ],
 "metadata": {
  "kernelspec": {
   "display_name": "Python 3",
   "language": "python",
   "name": "python3"
  },
  "language_info": {
   "codemirror_mode": {
    "name": "ipython",
    "version": 3
   },
   "file_extension": ".py",
   "mimetype": "text/x-python",
   "name": "python",
   "nbconvert_exporter": "python",
   "pygments_lexer": "ipython3",
   "version": "3.6.2"
  }
 },
 "nbformat": 4,
 "nbformat_minor": 2
}

{
 "cells": [
  {
   "cell_type": "code",
   "execution_count": 1,
   "metadata": {},
   "outputs": [],
   "source": [
    "# OK, let's see what the sky level looks like for a typical narrowband observation.  \n",
    "# This is using some other parts of the LSST stack, so might be tricky to run, but \n",
    "# I'll try to print out all the relevant parts"
   ]
  },
  {
   "cell_type": "code",
   "execution_count": 6,
   "metadata": {},
   "outputs": [],
   "source": [
    "import numpy as np\n",
    "import matplotlib.pylab as plt\n",
    "%matplotlib inline\n",
    "from lsst.sims.skybrightness import SkyModel\n",
    "import os\n",
    "\n",
    "from lsst.sims.photUtils.Bandpass import Bandpass "
   ]
  },
  {
   "cell_type": "code",
   "execution_count": 17,
   "metadata": {},
   "outputs": [],
   "source": [
    "# initialize the sky model\n",
    "sb = SkyModel()"
   ]
  },
  {
   "cell_type": "code",
   "execution_count": 36,
   "metadata": {},
   "outputs": [],
   "source": [
    "# Read in the narrowband throughputs\n",
    "splus_filt_dir =  'splus_filter_curves'\n",
    "narrowbandfiltlist = ['F378', 'F395', 'F410', 'F430', 'F515', 'F660', 'F861']\n",
    "\n",
    "splus_narrowbands = {}\n",
    "for filtername in narrowbandfiltlist:\n",
    "    from_file = np.loadtxt(os.path.join(splus_filt_dir,filtername+'.dat'))\n",
    "    tempB2 = Bandpass()\n",
    "    tempB2.setBandpass(from_file[:,0]/10., from_file[:,1])\n",
    "    \n",
    "    splus_narrowbands[filtername] = tempB2"
   ]
  },
  {
   "cell_type": "code",
   "execution_count": 37,
   "metadata": {},
   "outputs": [],
   "source": [
    "# Let's set the where we are looking in the sky\n",
    "sb.setRaDecMjd(0., 70., 59853.19, degrees=True, azAlt=True)"
   ]
  },
  {
   "cell_type": "code",
   "execution_count": 38,
   "metadata": {},
   "outputs": [
    {
     "data": {
      "text/plain": [
       "(-56.586539499857366, -7.7006592136904413)"
      ]
     },
     "execution_count": 38,
     "metadata": {},
     "output_type": "execute_result"
    }
   ],
   "source": [
    "# Check that we picked an MJD where the sun and moon are down.\n",
    "np.degrees(sb.sunAlt), np.degrees(sb.moonAlt)"
   ]
  },
  {
   "cell_type": "code",
   "execution_count": 39,
   "metadata": {},
   "outputs": [
    {
     "data": {
      "text/plain": [
       "[<matplotlib.lines.Line2D at 0xb20feb940>]"
      ]
     },
     "execution_count": 39,
     "metadata": {},
     "output_type": "execute_result"
    },
    {
     "data": {
      "image/png": "[encoded data removed]",
      "text/plain": [
       "<matplotlib.figure.Figure at 0xb211b7f98>"
      ]
     },
     "metadata": {},
     "output_type": "display_data"
    }
   ],
   "source": [
    "wave, spec = sb.returnWaveSpec()\n",
    "plt.plot(wave, spec.ravel())"
   ]
  },
  {
   "cell_type": "code",
   "execution_count": 40,
   "metadata": {},
   "outputs": [
    {
     "data": {
      "text/plain": [
       "{'F378': array([ 22.63060826]),\n",
       " 'F395': array([ 22.66559093]),\n",
       " 'F410': array([ 22.39495818]),\n",
       " 'F430': array([ 22.37808949]),\n",
       " 'F515': array([ 21.89181356]),\n",
       " 'F660': array([ 21.22310616]),\n",
       " 'F861': array([ 19.36278739])}"
      ]
     },
     "execution_count": 40,
     "metadata": {},
     "output_type": "execute_result"
    }
   ],
   "source": [
    "\n",
    "lsst_mags = sb.returnMags(bandpasses=splus_narrowbands)\n",
    "lsst_mags"
   ]
  },
  {
   "cell_type": "code",
   "execution_count": 42,
   "metadata": {},
   "outputs": [],
   "source": [
    "# Just to compare, let's check what the broadband mag backgrounds are\n",
    "sb = SkyModel(mags=True)\n",
    "sb.setRaDecMjd(0., 70., 59853.19, degrees=True, azAlt=True)\n",
    "lsst_mags = sb.returnMags()"
   ]
  },
  {
   "cell_type": "code",
   "execution_count": 43,
   "metadata": {},
   "outputs": [
    {
     "data": {
      "text/plain": [
       "{'g': array([ 22.0279839]),\n",
       " 'i': array([ 20.25334748]),\n",
       " 'r': array([ 21.08485684]),\n",
       " 'u': array([ 22.72624638]),\n",
       " 'y': array([ 18.15891063]),\n",
       " 'z': array([ 19.33414126])}"
      ]
     },
     "execution_count": 43,
     "metadata": {},
     "output_type": "execute_result"
    }
   ],
   "source": [
    "lsst_mags"
   ]
  },
  {
   "cell_type": "code",
   "execution_count": null,
   "metadata": {},
   "outputs": [],
   "source": []
  },
  {
   "cell_type": "code",
   "execution_count": null,
   "metadata": {},
   "outputs": [],
   "source": []
  },
  {
   "cell_type": "code",
   "execution_count": null,
   "metadata": {},
   "outputs": [],
   "source": []
  }
 ],
 "metadata": {
  "kernelspec": {
   "display_name": "Python 3",
   "language": "python",
   "name": "python3"
  },
  "language_info": {
   "codemirror_mode": {
    "name": "ipython",
    "version": 3
   },
   "file_extension": ".py",
   "mimetype": "text/x-python",
   "name": "python",
   "nbconvert_exporter": "python",
   "pygments_lexer": "ipython3",
   "version": "3.6.2"
  }
 },
 "nbformat": 4,
 "nbformat_minor": 2
}
